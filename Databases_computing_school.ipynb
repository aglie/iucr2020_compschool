{
  "nbformat": 4,
  "nbformat_minor": 0,
  "metadata": {
    "colab": {
      "name": "Databases_computing_school.ipynb",
      "provenance": [],
      "collapsed_sections": [],
      "include_colab_link": true
    },
    "kernelspec": {
      "name": "python3",
      "display_name": "Python 3"
    },
    "language_info": {
      "name": "python"
    }
  },
  "cells": [
    {
      "cell_type": "markdown",
      "metadata": {
        "id": "view-in-github",
        "colab_type": "text"
      },
      "source": [
        "<a href=\"https://colab.research.google.com/github/clacri/iucr2020_compschool/blob/main/Databases_computing_school.ipynb\" target=\"_parent\"><img src=\"https://colab.research.google.com/assets/colab-badge.svg\" alt=\"Open In Colab\"/></a>"
      ]
    },
    {
      "cell_type": "markdown",
      "metadata": {
        "id": "PcRoIT4o8k-t"
      },
      "source": [
        "#**Accessing and querying databases with SQL Magic**"
      ]
    },
    {
      "cell_type": "markdown",
      "metadata": {
        "id": "KHW6BLiczNsb"
      },
      "source": [
        "##**Load sql magic exension**"
      ]
    },
    {
      "cell_type": "markdown",
      "metadata": {
        "id": "7ScgyD2QqoRa"
      },
      "source": [
        "To communicate with SQL Databases from within a Google Colab notebook, we can use the SQL \"magic\" provided by the ipython-sql extension. Below, we'll use the load_ext magic to load the ipython-sql extension."
      ]
    },
    {
      "cell_type": "code",
      "metadata": {
        "id": "EndOuYuRpye4"
      },
      "source": [
        "%load_ext sql"
      ],
      "execution_count": null,
      "outputs": []
    },
    {
      "cell_type": "markdown",
      "metadata": {
        "id": "nlBygUHezcDa"
      },
      "source": [
        "##**Connecting to a Database**"
      ]
    },
    {
      "cell_type": "markdown",
      "metadata": {
        "id": "vOigRVLuylhK"
      },
      "source": [
        "Then establish a connection with the database.\n",
        "\n",
        "To use a SQLite :memory: database, specify an empty URL."
      ]
    },
    {
      "cell_type": "code",
      "metadata": {
        "id": "Be4Iyg_NynPI",
        "colab": {
          "base_uri": "https://localhost:8080/",
          "height": 35
        },
        "outputId": "8bf4edf8-2281-49db-9055-2d226a109f83"
      },
      "source": [
        "%sql sqlite://"
      ],
      "execution_count": null,
      "outputs": [
        {
          "output_type": "execute_result",
          "data": {
            "application/vnd.google.colaboratory.intrinsic+json": {
              "type": "string"
            },
            "text/plain": [
              "'Connected: @None'"
            ]
          },
          "metadata": {},
          "execution_count": 3
        }
      ]
    },
    {
      "cell_type": "markdown",
      "metadata": {
        "id": "EHtShTdoHhXJ"
      },
      "source": [
        "##**Load the data into the database**"
      ]
    },
    {
      "cell_type": "markdown",
      "metadata": {
        "id": "jTjKoaFQHwX_"
      },
      "source": [
        "To analyze the data using SQL, it first needs to be stored in the database. \n",
        "\n",
        "We will first read the dataset source .CSV into pandas dataframe. \n",
        "\n",
        "Then the PERSIST command in SQL magic simplifies the process of table creation and writing the data from a pandas dataframe into the table."
      ]
    },
    {
      "cell_type": "code",
      "metadata": {
        "id": "Jx3waXd-HwwN",
        "colab": {
          "base_uri": "https://localhost:8080/",
          "height": 86
        },
        "outputId": "5c1ebae3-0d5e-43b2-9cd6-e11e2adda95d"
      },
      "source": [
        "import pandas\n",
        "#%sql DROP TABLE pdb\n",
        "pdb = pandas.read_csv('/content/drive/MyDrive/ColabNotebooks/Computing/Coiled-coils.csv')\n",
        "%sql PERSIST pdb"
      ],
      "execution_count": null,
      "outputs": [
        {
          "output_type": "stream",
          "text": [
            " * sqlite://\n",
            "Done.\n",
            " * sqlite://\n"
          ],
          "name": "stdout"
        },
        {
          "output_type": "execute_result",
          "data": {
            "application/vnd.google.colaboratory.intrinsic+json": {
              "type": "string"
            },
            "text/plain": [
              "'Persisted pdb'"
            ]
          },
          "metadata": {},
          "execution_count": 6
        }
      ]
    },
    {
      "cell_type": "markdown",
      "metadata": {
        "id": "0s0OsLr6hREK"
      },
      "source": [
        "You can verify that the table creation was successful by making a basic query like:"
      ]
    },
    {
      "cell_type": "code",
      "metadata": {
        "id": "HoXgukO2hNgN",
        "colab": {
          "base_uri": "https://localhost:8080/",
          "height": 179
        },
        "outputId": "65762173-547a-4a31-ff4e-d762a34ba9c7"
      },
      "source": [
        "%sql SELECT * FROM pdb limit 5;"
      ],
      "execution_count": null,
      "outputs": [
        {
          "output_type": "stream",
          "text": [
            " * sqlite://\n",
            "Done.\n"
          ],
          "name": "stdout"
        },
        {
          "output_type": "execute_result",
          "data": {
            "text/html": [
              "<table>\n",
              "    <thead>\n",
              "        <tr>\n",
              "            <th>index</th>\n",
              "            <th>PDB_id</th>\n",
              "            <th>Space_group</th>\n",
              "            <th>Resolution</th>\n",
              "            <th>Nres</th>\n",
              "            <th>Solvent_content</th>\n",
              "            <th>Anisotropic_Delta_B-factor</th>\n",
              "            <th>ASU_content</th>\n",
              "            <th>Architecture</th>\n",
              "            <th>Twin_fraction</th>\n",
              "        </tr>\n",
              "    </thead>\n",
              "    <tbody>\n",
              "        <tr>\n",
              "            <td>0</td>\n",
              "            <td>1byz</td>\n",
              "            <td>P1</td>\n",
              "            <td>0.9</td>\n",
              "            <td>48</td>\n",
              "            <td>25.5</td>\n",
              "            <td>0.96</td>\n",
              "            <td>4C of 1H</td>\n",
              "            <td>Left-handed</td>\n",
              "            <td>0.0</td>\n",
              "        </tr>\n",
              "        <tr>\n",
              "            <td>1</td>\n",
              "            <td>3azd</td>\n",
              "            <td>P31</td>\n",
              "            <td>0.98</td>\n",
              "            <td>60</td>\n",
              "            <td>45.1</td>\n",
              "            <td>0.27</td>\n",
              "            <td>2C of 1H</td>\n",
              "            <td>Left-handed</td>\n",
              "            <td>0.0</td>\n",
              "        </tr>\n",
              "        <tr>\n",
              "            <td>2</td>\n",
              "            <td>1nkd</td>\n",
              "            <td>C2</td>\n",
              "            <td>1.09</td>\n",
              "            <td>59</td>\n",
              "            <td>40.6</td>\n",
              "            <td>6.88</td>\n",
              "            <td>1C of 2H</td>\n",
              "            <td>Left-handed</td>\n",
              "            <td>0.0</td>\n",
              "        </tr>\n",
              "        <tr>\n",
              "            <td>3</td>\n",
              "            <td>2ic6</td>\n",
              "            <td>P212121</td>\n",
              "            <td>1.15</td>\n",
              "            <td>147</td>\n",
              "            <td>41.5</td>\n",
              "            <td>6.86</td>\n",
              "            <td>2C of 2H</td>\n",
              "            <td>Left-handed</td>\n",
              "            <td>0.0</td>\n",
              "        </tr>\n",
              "        <tr>\n",
              "            <td>4</td>\n",
              "            <td>1p9i</td>\n",
              "            <td>C2221</td>\n",
              "            <td>1.17</td>\n",
              "            <td>29</td>\n",
              "            <td>32.7</td>\n",
              "            <td>3.5</td>\n",
              "            <td>1C of 1H</td>\n",
              "            <td>Left-handed</td>\n",
              "            <td>0.0</td>\n",
              "        </tr>\n",
              "    </tbody>\n",
              "</table>"
            ],
            "text/plain": [
              "[(0, '1byz', 'P1', 0.9, 48, 25.5, 0.96, '4C of 1H', 'Left-handed', 0.0),\n",
              " (1, '3azd', 'P31', 0.98, 60, 45.1, 0.27, '2C of 1H', 'Left-handed', 0.0),\n",
              " (2, '1nkd', 'C2', 1.09, 59, 40.6, 6.88, '1C of 2H', 'Left-handed', 0.0),\n",
              " (3, '2ic6', 'P212121', 1.15, 147, 41.5, 6.86, '2C of 2H', 'Left-handed', 0.0),\n",
              " (4, '1p9i', 'C2221', 1.17, 29, 32.7, 3.5, '1C of 1H', 'Left-handed', 0.0)]"
            ]
          },
          "metadata": {},
          "execution_count": 7
        }
      ]
    },
    {
      "cell_type": "markdown",
      "metadata": {
        "id": "nf_eimllUX8Z"
      },
      "source": [
        "##**Data analysis**"
      ]
    },
    {
      "cell_type": "markdown",
      "metadata": {
        "id": "Z5LtRDnsZZ6n"
      },
      "source": [
        "###**Summary statistics**"
      ]
    },
    {
      "cell_type": "markdown",
      "metadata": {
        "id": "RIAzY0Q0Vvfl"
      },
      "source": [
        "Use the describe method to view the summary statistics of the data in the dataframe."
      ]
    },
    {
      "cell_type": "code",
      "metadata": {
        "id": "GXnByi_4TmQV",
        "colab": {
          "base_uri": "https://localhost:8080/",
          "height": 427
        },
        "outputId": "4958a053-9cc3-4b62-8446-ff8517142204"
      },
      "source": [
        "pdb.describe(include='all')"
      ],
      "execution_count": null,
      "outputs": [
        {
          "output_type": "execute_result",
          "data": {
            "text/html": [
              "<div>\n",
              "<style scoped>\n",
              "    .dataframe tbody tr th:only-of-type {\n",
              "        vertical-align: middle;\n",
              "    }\n",
              "\n",
              "    .dataframe tbody tr th {\n",
              "        vertical-align: top;\n",
              "    }\n",
              "\n",
              "    .dataframe thead th {\n",
              "        text-align: right;\n",
              "    }\n",
              "</style>\n",
              "<table border=\"1\" class=\"dataframe\">\n",
              "  <thead>\n",
              "    <tr style=\"text-align: right;\">\n",
              "      <th></th>\n",
              "      <th>PDB_id</th>\n",
              "      <th>Space_group</th>\n",
              "      <th>Resolution</th>\n",
              "      <th>Nres</th>\n",
              "      <th>Solvent_content</th>\n",
              "      <th>Anisotropic_Delta_B-factor</th>\n",
              "      <th>ASU_content</th>\n",
              "      <th>Architecture</th>\n",
              "      <th>Twin_fraction</th>\n",
              "    </tr>\n",
              "  </thead>\n",
              "  <tbody>\n",
              "    <tr>\n",
              "      <th>count</th>\n",
              "      <td>150</td>\n",
              "      <td>150</td>\n",
              "      <td>150.000000</td>\n",
              "      <td>150.000000</td>\n",
              "      <td>150.000000</td>\n",
              "      <td>150.000000</td>\n",
              "      <td>150</td>\n",
              "      <td>150</td>\n",
              "      <td>150.000000</td>\n",
              "    </tr>\n",
              "    <tr>\n",
              "      <th>unique</th>\n",
              "      <td>150</td>\n",
              "      <td>40</td>\n",
              "      <td>NaN</td>\n",
              "      <td>NaN</td>\n",
              "      <td>NaN</td>\n",
              "      <td>NaN</td>\n",
              "      <td>18</td>\n",
              "      <td>3</td>\n",
              "      <td>NaN</td>\n",
              "    </tr>\n",
              "    <tr>\n",
              "      <th>top</th>\n",
              "      <td>3ni0</td>\n",
              "      <td>C2</td>\n",
              "      <td>NaN</td>\n",
              "      <td>NaN</td>\n",
              "      <td>NaN</td>\n",
              "      <td>NaN</td>\n",
              "      <td>2C of 1H</td>\n",
              "      <td>Left-handed</td>\n",
              "      <td>NaN</td>\n",
              "    </tr>\n",
              "    <tr>\n",
              "      <th>freq</th>\n",
              "      <td>1</td>\n",
              "      <td>21</td>\n",
              "      <td>NaN</td>\n",
              "      <td>NaN</td>\n",
              "      <td>NaN</td>\n",
              "      <td>NaN</td>\n",
              "      <td>47</td>\n",
              "      <td>144</td>\n",
              "      <td>NaN</td>\n",
              "    </tr>\n",
              "    <tr>\n",
              "      <th>mean</th>\n",
              "      <td>NaN</td>\n",
              "      <td>NaN</td>\n",
              "      <td>2.149467</td>\n",
              "      <td>172.213333</td>\n",
              "      <td>55.019333</td>\n",
              "      <td>15.830400</td>\n",
              "      <td>NaN</td>\n",
              "      <td>NaN</td>\n",
              "      <td>0.029313</td>\n",
              "    </tr>\n",
              "    <tr>\n",
              "      <th>std</th>\n",
              "      <td>NaN</td>\n",
              "      <td>NaN</td>\n",
              "      <td>0.457604</td>\n",
              "      <td>120.150665</td>\n",
              "      <td>12.360598</td>\n",
              "      <td>15.311817</td>\n",
              "      <td>NaN</td>\n",
              "      <td>NaN</td>\n",
              "      <td>0.110580</td>\n",
              "    </tr>\n",
              "    <tr>\n",
              "      <th>min</th>\n",
              "      <td>NaN</td>\n",
              "      <td>NaN</td>\n",
              "      <td>0.900000</td>\n",
              "      <td>15.000000</td>\n",
              "      <td>25.500000</td>\n",
              "      <td>0.000000</td>\n",
              "      <td>NaN</td>\n",
              "      <td>NaN</td>\n",
              "      <td>0.000000</td>\n",
              "    </tr>\n",
              "    <tr>\n",
              "      <th>25%</th>\n",
              "      <td>NaN</td>\n",
              "      <td>NaN</td>\n",
              "      <td>1.900000</td>\n",
              "      <td>83.250000</td>\n",
              "      <td>46.050000</td>\n",
              "      <td>5.355000</td>\n",
              "      <td>NaN</td>\n",
              "      <td>NaN</td>\n",
              "      <td>0.000000</td>\n",
              "    </tr>\n",
              "    <tr>\n",
              "      <th>50%</th>\n",
              "      <td>NaN</td>\n",
              "      <td>NaN</td>\n",
              "      <td>2.115000</td>\n",
              "      <td>146.500000</td>\n",
              "      <td>53.450000</td>\n",
              "      <td>11.575000</td>\n",
              "      <td>NaN</td>\n",
              "      <td>NaN</td>\n",
              "      <td>0.000000</td>\n",
              "    </tr>\n",
              "    <tr>\n",
              "      <th>75%</th>\n",
              "      <td>NaN</td>\n",
              "      <td>NaN</td>\n",
              "      <td>2.500000</td>\n",
              "      <td>237.750000</td>\n",
              "      <td>63.725000</td>\n",
              "      <td>20.672500</td>\n",
              "      <td>NaN</td>\n",
              "      <td>NaN</td>\n",
              "      <td>0.000000</td>\n",
              "    </tr>\n",
              "    <tr>\n",
              "      <th>max</th>\n",
              "      <td>NaN</td>\n",
              "      <td>NaN</td>\n",
              "      <td>3.000000</td>\n",
              "      <td>635.000000</td>\n",
              "      <td>85.900000</td>\n",
              "      <td>77.260000</td>\n",
              "      <td>NaN</td>\n",
              "      <td>NaN</td>\n",
              "      <td>0.499000</td>\n",
              "    </tr>\n",
              "  </tbody>\n",
              "</table>\n",
              "</div>"
            ],
            "text/plain": [
              "       PDB_id Space_group  Resolution  ...  ASU_content  Architecture  Twin_fraction\n",
              "count     150         150  150.000000  ...          150           150     150.000000\n",
              "unique    150          40         NaN  ...           18             3            NaN\n",
              "top      3ni0          C2         NaN  ...     2C of 1H   Left-handed            NaN\n",
              "freq        1          21         NaN  ...           47           144            NaN\n",
              "mean      NaN         NaN    2.149467  ...          NaN           NaN       0.029313\n",
              "std       NaN         NaN    0.457604  ...          NaN           NaN       0.110580\n",
              "min       NaN         NaN    0.900000  ...          NaN           NaN       0.000000\n",
              "25%       NaN         NaN    1.900000  ...          NaN           NaN       0.000000\n",
              "50%       NaN         NaN    2.115000  ...          NaN           NaN       0.000000\n",
              "75%       NaN         NaN    2.500000  ...          NaN           NaN       0.000000\n",
              "max       NaN         NaN    3.000000  ...          NaN           NaN       0.499000\n",
              "\n",
              "[11 rows x 9 columns]"
            ]
          },
          "metadata": {},
          "execution_count": 8
        }
      ]
    },
    {
      "cell_type": "markdown",
      "metadata": {
        "id": "UZ7VEvxmh5B9"
      },
      "source": [
        "###**Architecture**"
      ]
    },
    {
      "cell_type": "markdown",
      "metadata": {
        "id": "ZB9E6GYEy0mk"
      },
      "source": [
        "To know how many coiled-coil structures are left-handed, right-handed and partially right-handed we are going to query our database.\n",
        "\n",
        "The SELECT statement with COUNT will retieve the number of rows that match the query criteria, and the WHERE clause can be added to the query to filter the result set."
      ]
    },
    {
      "cell_type": "code",
      "metadata": {
        "id": "Wt7kIkiGyxWZ",
        "colab": {
          "base_uri": "https://localhost:8080/",
          "height": 95
        },
        "outputId": "7f1be0cb-bdb4-45df-de33-31e98dda8a75"
      },
      "source": [
        "%sql select Count(*) from pdb where Architecture = \"Left-handed\""
      ],
      "execution_count": null,
      "outputs": [
        {
          "output_type": "stream",
          "text": [
            " * sqlite://\n",
            "Done.\n"
          ],
          "name": "stdout"
        },
        {
          "output_type": "execute_result",
          "data": {
            "text/html": [
              "<table>\n",
              "    <thead>\n",
              "        <tr>\n",
              "            <th>Count(*)</th>\n",
              "        </tr>\n",
              "    </thead>\n",
              "    <tbody>\n",
              "        <tr>\n",
              "            <td>144</td>\n",
              "        </tr>\n",
              "    </tbody>\n",
              "</table>"
            ],
            "text/plain": [
              "[(144,)]"
            ]
          },
          "metadata": {},
          "execution_count": 9
        }
      ]
    },
    {
      "cell_type": "markdown",
      "metadata": {
        "id": "1_iPQr7Dgh6B"
      },
      "source": [
        "You can use python variables in your SQL statements by adding a \":\" prefix to your python variable names."
      ]
    },
    {
      "cell_type": "code",
      "metadata": {
        "id": "ZG9ODXAkjE0h",
        "colab": {
          "base_uri": "https://localhost:8080/",
          "height": 95
        },
        "outputId": "342c276a-5f42-4ed2-8188-23300a90edfc"
      },
      "source": [
        "architecture_right = \"Right-handed\"\n",
        "%sql select Count(*) from pdb where Architecture = :architecture_right"
      ],
      "execution_count": null,
      "outputs": [
        {
          "output_type": "stream",
          "text": [
            " * sqlite://\n",
            "Done.\n"
          ],
          "name": "stdout"
        },
        {
          "output_type": "execute_result",
          "data": {
            "text/html": [
              "<table>\n",
              "    <thead>\n",
              "        <tr>\n",
              "            <th>Count(*)</th>\n",
              "        </tr>\n",
              "    </thead>\n",
              "    <tbody>\n",
              "        <tr>\n",
              "            <td>2</td>\n",
              "        </tr>\n",
              "    </tbody>\n",
              "</table>"
            ],
            "text/plain": [
              "[(2,)]"
            ]
          },
          "metadata": {},
          "execution_count": 9
        }
      ]
    },
    {
      "cell_type": "code",
      "metadata": {
        "id": "BswXdOtmjF6B",
        "colab": {
          "base_uri": "https://localhost:8080/",
          "height": 95
        },
        "outputId": "22de713d-1b64-46f2-e2d4-ca7fecb806c8"
      },
      "source": [
        "architecture_partially_right = \"Partially right-handed\"\n",
        "%sql select Count(*) from pdb where Architecture = :architecture_partially_right"
      ],
      "execution_count": null,
      "outputs": [
        {
          "output_type": "stream",
          "text": [
            " * sqlite://\n",
            "Done.\n"
          ],
          "name": "stdout"
        },
        {
          "output_type": "execute_result",
          "data": {
            "text/html": [
              "<table>\n",
              "    <thead>\n",
              "        <tr>\n",
              "            <th>Count(*)</th>\n",
              "        </tr>\n",
              "    </thead>\n",
              "    <tbody>\n",
              "        <tr>\n",
              "            <td>4</td>\n",
              "        </tr>\n",
              "    </tbody>\n",
              "</table>"
            ],
            "text/plain": [
              "[(4,)]"
            ]
          },
          "metadata": {},
          "execution_count": 10
        }
      ]
    },
    {
      "cell_type": "markdown",
      "metadata": {
        "id": "rqnFNALD1vlG"
      },
      "source": [
        "Alternatively, we can use the GROUP BY clause, that groups a result into subsets that has a matching values for one or more columns. Here architectures are grouped and then counted using the COUNT function.\n",
        "\n",
        "For convenience, we can use %%sql (two %'s instead of one) at the top of a cell to indicate that we want the entire cell to be treated as SQL."
      ]
    },
    {
      "cell_type": "code",
      "metadata": {
        "id": "ldYCR7ipjNaN",
        "colab": {
          "base_uri": "https://localhost:8080/",
          "height": 137
        },
        "outputId": "878a8650-6699-4b82-ca39-60d255aa4dc5"
      },
      "source": [
        "%%sql\n",
        "SELECT Architecture, count(*) from pdb group by Architecture"
      ],
      "execution_count": null,
      "outputs": [
        {
          "output_type": "stream",
          "text": [
            " * sqlite://\n",
            "Done.\n"
          ],
          "name": "stdout"
        },
        {
          "output_type": "execute_result",
          "data": {
            "text/html": [
              "<table>\n",
              "    <thead>\n",
              "        <tr>\n",
              "            <th>Architecture</th>\n",
              "            <th>count(*)</th>\n",
              "        </tr>\n",
              "    </thead>\n",
              "    <tbody>\n",
              "        <tr>\n",
              "            <td>Left-handed</td>\n",
              "            <td>144</td>\n",
              "        </tr>\n",
              "        <tr>\n",
              "            <td>Partially right-handed</td>\n",
              "            <td>4</td>\n",
              "        </tr>\n",
              "        <tr>\n",
              "            <td>Right-handed</td>\n",
              "            <td>2</td>\n",
              "        </tr>\n",
              "    </tbody>\n",
              "</table>"
            ],
            "text/plain": [
              "[('Left-handed', 144), ('Partially right-handed', 4), ('Right-handed', 2)]"
            ]
          },
          "metadata": {},
          "execution_count": 11
        }
      ]
    },
    {
      "cell_type": "markdown",
      "metadata": {
        "id": "ex0PAuvWl_e4"
      },
      "source": [
        "###**Space group distribution**"
      ]
    },
    {
      "cell_type": "markdown",
      "metadata": {
        "id": "v4FmQ07Me6vP"
      },
      "source": [
        "You can use the normal python assignment syntax to assign the results of your queries to python variables."
      ]
    },
    {
      "cell_type": "code",
      "metadata": {
        "id": "DCinCi9WavAV",
        "colab": {
          "base_uri": "https://localhost:8080/"
        },
        "outputId": "d19572de-b12a-47f7-d876-1d33ddc26531"
      },
      "source": [
        "space_group_distribution = %sql SELECT Space_group as \"Space Group\", count(*) as \"Frequency\" from pdb group by Space_group"
      ],
      "execution_count": null,
      "outputs": [
        {
          "output_type": "stream",
          "text": [
            " * sqlite://\n",
            "Done.\n"
          ],
          "name": "stdout"
        }
      ]
    },
    {
      "cell_type": "markdown",
      "metadata": {
        "id": "B_jygz8je8yX"
      },
      "source": [
        "You can convert a SQL query result to a pandas dataframe using the DataFrame() method.\n",
        "\n",
        "Then we can easily graph our space group distribution after converting to a dataframe, using the barplot function provided by the Seaborn package.\n",
        "\n"
      ]
    },
    {
      "cell_type": "code",
      "metadata": {
        "id": "lsfcPE98bL-4",
        "colab": {
          "base_uri": "https://localhost:8080/",
          "height": 382
        },
        "outputId": "2b2424c3-b34e-427d-8e71-f4069850764d"
      },
      "source": [
        "dataframe = space_group_distribution.DataFrame()\n",
        "\n",
        "%matplotlib inline\n",
        "import matplotlib.pyplot as plt\n",
        "import seaborn as sns\n",
        "\n",
        "plt.figure(figsize=(15, 5))\n",
        "plot = sns.barplot(x='Space Group',y='Frequency', data=dataframe)\n",
        "plot.set_xticklabels(plot.get_xticklabels(), rotation=50)\n",
        ";"
      ],
      "execution_count": null,
      "outputs": [
        {
          "output_type": "execute_result",
          "data": {
            "application/vnd.google.colaboratory.intrinsic+json": {
              "type": "string"
            },
            "text/plain": [
              "''"
            ]
          },
          "metadata": {},
          "execution_count": 13
        },
        {
          "output_type": "display_data",
          "data": {
            "image/png": "[encoded data removed]",
            "text/plain": [
              "<Figure size 1080x360 with 1 Axes>"
            ]
          },
          "metadata": {
            "needs_background": "light"
          }
        }
      ]
    },
    {
      "cell_type": "markdown",
      "metadata": {
        "id": "VjBG6j38mDf0"
      },
      "source": [
        "###**Resolution vs Number of residues**"
      ]
    },
    {
      "cell_type": "markdown",
      "metadata": {
        "id": "4-VzXdg1KCXL"
      },
      "source": [
        "To create a scatter plot with the resolution on the x-axis and number of residues on the y-axis, we can use the joint plot function provided by the Seaborn package."
      ]
    },
    {
      "cell_type": "code",
      "metadata": {
        "id": "86eIQczSiAw3",
        "colab": {
          "base_uri": "https://localhost:8080/",
          "height": 475
        },
        "outputId": "3193c572-0cce-45b1-ca43-33058d66de03"
      },
      "source": [
        "Resolution_vs_Nres = %sql SELECT Resolution, Nres as \"Number of residues\" from pdb\n",
        "dataframe = Resolution_vs_Nres.DataFrame()\n",
        "plot = sns.jointplot(x='Resolution',y='Number of residues', data=dataframe)"
      ],
      "execution_count": null,
      "outputs": [
        {
          "output_type": "stream",
          "text": [
            " * sqlite://\n",
            "Done.\n"
          ],
          "name": "stdout"
        },
        {
          "output_type": "display_data",
          "data": {
            "image/png": "[encoded data removed]",
            "text/plain": [
              "<Figure size 432x432 with 3 Axes>"
            ]
          },
          "metadata": {
            "needs_background": "light"
          }
        }
      ]
    },
    {
      "cell_type": "markdown",
      "metadata": {
        "id": "FU5TC6MmpQXX"
      },
      "source": [
        "###**Anisotropy**"
      ]
    },
    {
      "cell_type": "markdown",
      "metadata": {
        "id": "xec2Chnwq_GW"
      },
      "source": [
        "The Anisotropic Delta B-factor measures the degree of anisotropy:\n",
        "*   An anisotropic delta-B under 10 Å² indicates no anisotropy \n",
        "*   An anisotropic delta-B over 10 Å² indicates mild anisotropy \n",
        "*   An anisotropic delta-B over 25 Å² indicates strong anisotropy \n",
        "*   And an anisotropic delta-B over 50 Å² indicates severe anisotropy\n",
        "\n",
        "To add a new column with these conditions we can use a function called np.select(). We’ll give it two arguments: a list of our conditions, and a corresponding list of the value we’d like to assign to each row in our new column."
      ]
    },
    {
      "cell_type": "code",
      "metadata": {
        "id": "gmUElnf8pjFv",
        "colab": {
          "base_uri": "https://localhost:8080/",
          "height": 204
        },
        "outputId": "7af49b83-97ff-4e29-de09-58b9b60a5cea"
      },
      "source": [
        "import numpy as np\n",
        "\n",
        "# create a list of our conditions\n",
        "conditions = [\n",
        "    (pdb['Anisotropic_Delta_B-factor'] <= 10),\n",
        "    (pdb['Anisotropic_Delta_B-factor'] > 10) & (pdb['Anisotropic_Delta_B-factor'] <= 25),\n",
        "    (pdb['Anisotropic_Delta_B-factor'] > 25) & (pdb['Anisotropic_Delta_B-factor'] <= 50),\n",
        "    (pdb['Anisotropic_Delta_B-factor'] > 50)\n",
        "    ]\n",
        "\n",
        "# create a list of the values we want to assign for each condition\n",
        "values = ['No', 'Mild', 'Strong', 'Severe']\n",
        "\n",
        "# create a new column and use np.select to assign values to it using our lists as arguments\n",
        "pdb['Anisotropy'] = np.select(conditions, values)\n",
        "\n",
        "# display updated DataFrame\n",
        "pdb.head()"
      ],
      "execution_count": null,
      "outputs": [
        {
          "output_type": "execute_result",
          "data": {
            "text/html": [
              "<div>\n",
              "<style scoped>\n",
              "    .dataframe tbody tr th:only-of-type {\n",
              "        vertical-align: middle;\n",
              "    }\n",
              "\n",
              "    .dataframe tbody tr th {\n",
              "        vertical-align: top;\n",
              "    }\n",
              "\n",
              "    .dataframe thead th {\n",
              "        text-align: right;\n",
              "    }\n",
              "</style>\n",
              "<table border=\"1\" class=\"dataframe\">\n",
              "  <thead>\n",
              "    <tr style=\"text-align: right;\">\n",
              "      <th></th>\n",
              "      <th>PDB_id</th>\n",
              "      <th>Space_group</th>\n",
              "      <th>Resolution</th>\n",
              "      <th>Nres</th>\n",
              "      <th>Solvent_content</th>\n",
              "      <th>Anisotropic_Delta_B-factor</th>\n",
              "      <th>ASU_content</th>\n",
              "      <th>Architecture</th>\n",
              "      <th>Twin_fraction</th>\n",
              "      <th>Anisotropy</th>\n",
              "    </tr>\n",
              "  </thead>\n",
              "  <tbody>\n",
              "    <tr>\n",
              "      <th>0</th>\n",
              "      <td>1byz</td>\n",
              "      <td>P1</td>\n",
              "      <td>0.90</td>\n",
              "      <td>48</td>\n",
              "      <td>25.5</td>\n",
              "      <td>0.96</td>\n",
              "      <td>4C of 1H</td>\n",
              "      <td>Left-handed</td>\n",
              "      <td>0.0</td>\n",
              "      <td>No</td>\n",
              "    </tr>\n",
              "    <tr>\n",
              "      <th>1</th>\n",
              "      <td>3azd</td>\n",
              "      <td>P31</td>\n",
              "      <td>0.98</td>\n",
              "      <td>60</td>\n",
              "      <td>45.1</td>\n",
              "      <td>0.27</td>\n",
              "      <td>2C of 1H</td>\n",
              "      <td>Left-handed</td>\n",
              "      <td>0.0</td>\n",
              "      <td>No</td>\n",
              "    </tr>\n",
              "    <tr>\n",
              "      <th>2</th>\n",
              "      <td>1nkd</td>\n",
              "      <td>C2</td>\n",
              "      <td>1.09</td>\n",
              "      <td>59</td>\n",
              "      <td>40.6</td>\n",
              "      <td>6.88</td>\n",
              "      <td>1C of 2H</td>\n",
              "      <td>Left-handed</td>\n",
              "      <td>0.0</td>\n",
              "      <td>No</td>\n",
              "    </tr>\n",
              "    <tr>\n",
              "      <th>3</th>\n",
              "      <td>2ic6</td>\n",
              "      <td>P212121</td>\n",
              "      <td>1.15</td>\n",
              "      <td>147</td>\n",
              "      <td>41.5</td>\n",
              "      <td>6.86</td>\n",
              "      <td>2C of 2H</td>\n",
              "      <td>Left-handed</td>\n",
              "      <td>0.0</td>\n",
              "      <td>No</td>\n",
              "    </tr>\n",
              "    <tr>\n",
              "      <th>4</th>\n",
              "      <td>1p9i</td>\n",
              "      <td>C2221</td>\n",
              "      <td>1.17</td>\n",
              "      <td>29</td>\n",
              "      <td>32.7</td>\n",
              "      <td>3.50</td>\n",
              "      <td>1C of 1H</td>\n",
              "      <td>Left-handed</td>\n",
              "      <td>0.0</td>\n",
              "      <td>No</td>\n",
              "    </tr>\n",
              "  </tbody>\n",
              "</table>\n",
              "</div>"
            ],
            "text/plain": [
              "  PDB_id Space_group  Resolution  ...  Architecture  Twin_fraction  Anisotropy\n",
              "0   1byz          P1        0.90  ...   Left-handed            0.0          No\n",
              "1   3azd         P31        0.98  ...   Left-handed            0.0          No\n",
              "2   1nkd          C2        1.09  ...   Left-handed            0.0          No\n",
              "3   2ic6     P212121        1.15  ...   Left-handed            0.0          No\n",
              "4   1p9i       C2221        1.17  ...   Left-handed            0.0          No\n",
              "\n",
              "[5 rows x 10 columns]"
            ]
          },
          "metadata": {},
          "execution_count": 15
        }
      ]
    },
    {
      "cell_type": "markdown",
      "metadata": {
        "id": "QbYMemtKQe6d"
      },
      "source": [
        "Using the swarmplot method provided by the Seaborne package, we create a categorical scatter plot, then give as the input, category of Anisotropy on the x-axis and Anisotropic_Delta_B-factor on the y-axis."
      ]
    },
    {
      "cell_type": "code",
      "metadata": {
        "id": "w-0uJVBJrMM_",
        "colab": {
          "base_uri": "https://localhost:8080/",
          "height": 324
        },
        "outputId": "90dcb1f7-7720-4451-c5d2-a5d64796ebb3"
      },
      "source": [
        "plot = sns.swarmplot(x=\"Anisotropy\", y=\"Anisotropic_Delta_B-factor\", data=pdb, size=4)\n",
        "plt.setp(plot.get_xticklabels(), rotation=70)\n",
        ";"
      ],
      "execution_count": null,
      "outputs": [
        {
          "output_type": "execute_result",
          "data": {
            "application/vnd.google.colaboratory.intrinsic+json": {
              "type": "string"
            },
            "text/plain": [
              "''"
            ]
          },
          "metadata": {},
          "execution_count": 16
        },
        {
          "output_type": "display_data",
          "data": {
            "image/png": "[encoded data removed]",
            "text/plain": [
              "<Figure size 432x288 with 1 Axes>"
            ]
          },
          "metadata": {
            "needs_background": "light"
          }
        }
      ]
    },
    {
      "cell_type": "markdown",
      "metadata": {
        "id": "UDh57TggT-pE"
      },
      "source": [
        "The describe method is used to understand the summary statistics associated with the values of Anisotropic_Delta_B-factor."
      ]
    },
    {
      "cell_type": "code",
      "metadata": {
        "id": "UGKV5r4Dssri",
        "colab": {
          "base_uri": "https://localhost:8080/"
        },
        "outputId": "c1de601c-817b-4c79-d178-13d90b5c1795"
      },
      "source": [
        "pdb[\"Anisotropic_Delta_B-factor\"].describe()"
      ],
      "execution_count": null,
      "outputs": [
        {
          "output_type": "execute_result",
          "data": {
            "text/plain": [
              "count    150.000000\n",
              "mean      15.830400\n",
              "std       15.311817\n",
              "min        0.000000\n",
              "25%        5.355000\n",
              "50%       11.575000\n",
              "75%       20.672500\n",
              "max       77.260000\n",
              "Name: Anisotropic_Delta_B-factor, dtype: float64"
            ]
          },
          "metadata": {},
          "execution_count": 17
        }
      ]
    },
    {
      "cell_type": "markdown",
      "metadata": {
        "id": "ouMIrDoCTDaI"
      },
      "source": [
        "We use the idxmax method to compute the index values, at which the maximum value of Anisotropic_Delta_B-factor is obtained in the data frame."
      ]
    },
    {
      "cell_type": "code",
      "metadata": {
        "id": "I1BUBXAQs4T3",
        "colab": {
          "base_uri": "https://localhost:8080/"
        },
        "outputId": "fc812e12-bb88-40f7-bffc-2f09d73e6920"
      },
      "source": [
        "pdb[\"Anisotropic_Delta_B-factor\"].idxmax()"
      ],
      "execution_count": null,
      "outputs": [
        {
          "output_type": "execute_result",
          "data": {
            "text/plain": [
              "137"
            ]
          },
          "metadata": {},
          "execution_count": 18
        }
      ]
    },
    {
      "cell_type": "markdown",
      "metadata": {
        "id": "5e7Wgwk6SZDN"
      },
      "source": [
        "We will use the .at method to find the PDB_id by passing the index 137 and the PDB_id column."
      ]
    },
    {
      "cell_type": "code",
      "metadata": {
        "id": "UxQHYNrrs_JS",
        "colab": {
          "base_uri": "https://localhost:8080/",
          "height": 35
        },
        "outputId": "f15d7f19-3506-477a-ec59-4db283c1316d"
      },
      "source": [
        "pdb.at[137, \"PDB_id\"]"
      ],
      "execution_count": null,
      "outputs": [
        {
          "output_type": "execute_result",
          "data": {
            "application/vnd.google.colaboratory.intrinsic+json": {
              "type": "string"
            },
            "text/plain": [
              "'2jee'"
            ]
          },
          "metadata": {},
          "execution_count": 19
        }
      ]
    },
    {
      "cell_type": "markdown",
      "metadata": {
        "id": "Hjyy0qXjy-dD"
      },
      "source": [
        "## **Exercises**"
      ]
    },
    {
      "cell_type": "markdown",
      "metadata": {
        "id": "Sn2d26VyvF5g"
      },
      "source": [
        "### **Query how many structures have Twinning**"
      ]
    },
    {
      "cell_type": "code",
      "metadata": {
        "id": "_kNqqv-6vq0U"
      },
      "source": [
        "#@title Solution { display-mode: \"form\" }\n",
        "%sql select Count(*) from pdb where Twin_fraction > 0"
      ],
      "execution_count": null,
      "outputs": []
    },
    {
      "cell_type": "markdown",
      "metadata": {
        "id": "Yh0YVLQ3zNef"
      },
      "source": [
        "### **Barplot of the ASU content distribution**"
      ]
    },
    {
      "cell_type": "code",
      "metadata": {
        "id": "_UYRHCuPy2HT"
      },
      "source": [
        "#@title Solution { display-mode: \"form\" }\n",
        "ASU_content_distribution = %sql SELECT ASU_content as \"ASU content\", count(*) as \"Frequency\" from pdb group by ASU_content\n",
        "\n",
        "dataframe = ASU_content_distribution.DataFrame()\n",
        "\n",
        "plt.figure(figsize=(15, 5))\n",
        "plot = sns.barplot(x='ASU content',y='Frequency', data=dataframe)\n",
        "plot.set_xticklabels(plot.get_xticklabels(), rotation=50)\n",
        ";"
      ],
      "execution_count": null,
      "outputs": []
    },
    {
      "cell_type": "markdown",
      "metadata": {
        "id": "siyt-_ydw00b"
      },
      "source": [
        "### **Scatterplot of Resolution vs Solvent Content**"
      ]
    },
    {
      "cell_type": "code",
      "metadata": {
        "id": "kUtgvTWbwGRb"
      },
      "source": [
        "#@title Solution { display-mode: \"form\" }\n",
        "Resolution_vs_Solvent = %sql SELECT Resolution, Solvent_content FROM pdb;\n",
        "\n",
        "dataframe = Resolution_vs_Solvent.DataFrame()\n",
        "plot = sns.jointplot(x='Resolution',y='Solvent_content', data=dataframe)"
      ],
      "execution_count": null,
      "outputs": []
    }
  ]
}